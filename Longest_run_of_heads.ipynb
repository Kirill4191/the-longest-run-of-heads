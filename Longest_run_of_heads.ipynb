{
 "cells": [
  {
   "cell_type": "markdown",
   "id": "e2b776a5",
   "metadata": {},
   "source": [
    "This project goal is to simulate the coin tossing experiment to get the longest run of heads distribution.\n",
    "\n",
    "Source:\n",
    "Schilling, M.F., 1990. The longest run of heads. The College Mathematics Journal, 21(3), pp.196-207.\n",
    "https://www.maa.org/sites/default/files/images/images/upload_library/22/Polya/07468342.di020742.02p0021g.pdf"
   ]
  },
  {
   "cell_type": "code",
   "execution_count": 22,
   "id": "2ae37522",
   "metadata": {},
   "outputs": [],
   "source": [
    "import numpy as np\n",
    "import matplotlib.pyplot as plt"
   ]
  },
  {
   "cell_type": "code",
   "execution_count": 23,
   "id": "a552b949",
   "metadata": {},
   "outputs": [],
   "source": [
    "num_toss = 200 #number of coin tosses in one experiment\n",
    "num_experiments = 5000 #number of experiments"
   ]
  },
  {
   "cell_type": "code",
   "execution_count": 24,
   "id": "33bdf4d8",
   "metadata": {},
   "outputs": [],
   "source": [
    "def coin(toss_num):\n",
    "    \"\"\"This function returns a list of 'toss_num' coin tossing outcomes\"\"\"\n",
    "    tosses = []\n",
    "    for i in range(toss_num):\n",
    "        tosses.append(np.random.randint(0,2))\n",
    "    return tosses\n",
    "\n",
    "def max_run(toss_list):\n",
    "    \"\"\"This function returns a longest run of heads in a list of tossing outcomes\"\"\"\n",
    "    max_seq = 0\n",
    "    seq = 0\n",
    "    for i in toss_list:\n",
    "        if i == 1:\n",
    "            seq += 1\n",
    "            if seq > max_seq:\n",
    "                max_seq = seq\n",
    "        else:\n",
    "            seq = 0\n",
    "    return max_seq"
   ]
  },
  {
   "cell_type": "code",
   "execution_count": 25,
   "id": "7eabf7a5",
   "metadata": {},
   "outputs": [],
   "source": [
    "#Conducting multiple coin tossing experiments to get the longest run of heads distribution\n",
    "longest_run = []\n",
    "for j in range(num_experiments):\n",
    "    toss_list = coin(num_toss)\n",
    "    longest_run.append(max_run(toss_list))"
   ]
  },
  {
   "cell_type": "code",
   "execution_count": 26,
   "id": "fe3aa1ea",
   "metadata": {},
   "outputs": [
    {
     "data": {
      "image/png": "[encoded data removed]",
      "text/plain": [
       "<Figure size 432x288 with 1 Axes>"
      ]
     },
     "metadata": {
      "needs_background": "light"
     },
     "output_type": "display_data"
    }
   ],
   "source": [
    "#Visualizing the longest run of heads distribution\n",
    "bins = np.arange(2, max(longest_run) + 1, 1) - 0.5 #Setting the correct number of bins and moving ticks to the bin center\n",
    "plt.hist(longest_run, bins = bins, color='White', edgecolor='Black')\n",
    "plt.xticks(np.arange(2, max(longest_run) + 1, 1))\n",
    "plt.show()"
   ]
  },
  {
   "cell_type": "code",
   "execution_count": null,
   "id": "f5825676",
   "metadata": {},
   "outputs": [],
   "source": []
  }
 ],
 "metadata": {
  "kernelspec": {
   "display_name": "Python 3",
   "language": "python",
   "name": "python3"
  },
  "language_info": {
   "codemirror_mode": {
    "name": "ipython",
    "version": 3
   },
   "file_extension": ".py",
   "mimetype": "text/x-python",
   "name": "python",
   "nbconvert_exporter": "python",
   "pygments_lexer": "ipython3",
   "version": "3.8.10"
  }
 },
 "nbformat": 4,
 "nbformat_minor": 5
}
